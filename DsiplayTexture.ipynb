{
 "cells": [
  {
   "cell_type": "code",
   "execution_count": 1,
   "id": "b5882695-3821-463b-8f95-5bf981fd00f7",
   "metadata": {},
   "outputs": [],
   "source": [
    "import matplotlib.pyplot as plt\n",
    "from glob import glob\n",
    "import os\n",
    "import numpy as np\n",
    "from ipywidgets import interact, interactive, fixed, RadioButtons\n",
    "import ipywidgets as widgets\n",
    "from IPython.display import display"
   ]
  },
  {
   "cell_type": "code",
   "execution_count": 4,
   "id": "56a13e43-c37c-445f-acf9-fe6e5887f661",
   "metadata": {},
   "outputs": [
    {
     "data": {
      "text/plain": [
       "['dataX/Aphmau/tim     hf_hnsm.bmp',\n",
       " 'dataX/Aphmau/tim     hf_bnsm.bmp',\n",
       " 'dataX/Aphmau/tim     hf_lnsm.bmp',\n",
       " 'dataX/Aphmau/tim     ev.bmp']"
      ]
     },
     "execution_count": 4,
     "metadata": {},
     "output_type": "execute_result"
    }
   ],
   "source": [
    "files = glob('dataX/Aphmau/tim*.bmp')\n",
    "files"
   ]
  },
  {
   "cell_type": "code",
   "execution_count": 5,
   "id": "a20c8632-2c59-40b0-9981-ea6e85f91841",
   "metadata": {},
   "outputs": [
    {
     "data": {
      "application/vnd.jupyter.widget-view+json": {
       "model_id": "09eca1ddc6d14796bd2b59c5da3443d3",
       "version_major": 2,
       "version_minor": 0
      },
      "text/plain": [
       "interactive(children=(FloatSlider(value=1.0, description='r_gamma', max=10.0, min=0.1), FloatSlider(value=1.0,…"
      ]
     },
     "metadata": {},
     "output_type": "display_data"
    }
   ],
   "source": [
    "vals = (val_start, val_end, val_step) = 0.1, 10, 0.1\n",
    "val_default = 1.0\n",
    "\n",
    "@interact(r_gamma=vals,\n",
    "          g_gamma=vals,\n",
    "          b_gamma=vals,\n",
    "          file=files)\n",
    "def g(r_gamma=val_default,\n",
    "      g_gamma=val_default,\n",
    "      b_gamma=val_default,\n",
    "      file=files[0]):\n",
    "    print(file)\n",
    "    im = plt.imread(file)[:,:,:3]  # RGBAの場合はRGBだけ取り出す\n",
    "    \n",
    "    fig = plt.figure(figsize=(15, 3))\n",
    "\n",
    "    ax = fig.add_subplot(1, 3, 1)\n",
    "    plt.imshow(im, vmin=0, vmax=255)\n",
    "    plt.axis(False)\n",
    "    plt.title('original image')\n",
    "    \n",
    "    ax = fig.add_subplot(1, 3, 2)\n",
    "    im[:, :, 0] = 255 * (im[:, :, 0]/255) ** r_gamma\n",
    "    im[:, :, 1] = 255 * (im[:, :, 1]/255) ** g_gamma\n",
    "    im[:, :, 2] = 255 * (im[:, :, 2]/255) ** b_gamma\n",
    "    plt.imshow(im, vmin=0, vmax=1)\n",
    "    plt.title('$\\gamma$ = ({0},{1},{2})'.format(r_gamma, g_gamma, b_gamma))\n",
    "    plt.axis(False)\n",
    "    \n",
    "    ax = fig.add_subplot(1, 3, 3)\n",
    "    x = np.arange(0, 1, 0.01)\n",
    "    plt.plot(x, x ** r_gamma, c='red', label='$\\gamma$ for R')\n",
    "    plt.plot(x, x ** g_gamma, c='green', label='$\\gamma$ for G')\n",
    "    plt.plot(x, x ** b_gamma, c='blue', label='$\\gamma$ for B')\n",
    "    plt.legend()\n",
    "    ax.set_aspect('equal')\n",
    "    ax.set_xlabel('input')\n",
    "    ax.set_ylabel('output')\n",
    "\n",
    "    plt.show();"
   ]
  },
  {
   "cell_type": "code",
   "execution_count": null,
   "id": "fdee250e-e467-4ef6-981e-257f3822baad",
   "metadata": {},
   "outputs": [],
   "source": []
  }
 ],
 "metadata": {
  "kernelspec": {
   "display_name": "Python 3 (ipykernel)",
   "language": "python",
   "name": "python3"
  },
  "language_info": {
   "codemirror_mode": {
    "name": "ipython",
    "version": 3
   },
   "file_extension": ".py",
   "mimetype": "text/x-python",
   "name": "python",
   "nbconvert_exporter": "python",
   "pygments_lexer": "ipython3",
   "version": "3.7.9"
  }
 },
 "nbformat": 4,
 "nbformat_minor": 5
}
